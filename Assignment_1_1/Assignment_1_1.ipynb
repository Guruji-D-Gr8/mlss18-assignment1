{
 "cells": [
  {
   "cell_type": "code",
   "execution_count": 2,
   "metadata": {},
   "outputs": [],
   "source": [
    "import pickle\n",
    "import numpy as np"
   ]
  },
  {
   "cell_type": "code",
   "execution_count": 3,
   "metadata": {},
   "outputs": [],
   "source": [
    "## Code to load the array\n",
    "with open('array.pickle', 'rb') as p:\n",
    "    arr = pickle.load(p)"
   ]
  },
  {
   "cell_type": "markdown",
   "metadata": {},
   "source": [
    "Check that the size of the array (arr) is 1000. Please report if any discrepancy."
   ]
  },
  {
   "cell_type": "markdown",
   "metadata": {},
   "source": [
    "## Task 1: Resize the array to a (20x50) matrix"
   ]
  },
  {
   "cell_type": "code",
   "execution_count": 12,
   "metadata": {},
   "outputs": [],
   "source": [
    "## BEGIN CODE\n",
    "a=np.resize(arr,(20,50))\n",
    "## END CODE"
   ]
  },
  {
   "cell_type": "markdown",
   "metadata": {},
   "source": [
    "## Task 2: Find the transpose of this matrix"
   ]
  },
  {
   "cell_type": "code",
   "execution_count": 13,
   "metadata": {},
   "outputs": [],
   "source": [
    "## BEGIN CODE\n",
    "b=np.transpose(arr)\n",
    "## END CODE"
   ]
  },
  {
   "cell_type": "markdown",
   "metadata": {},
   "source": [
    "## Task 3: Find the dot product of the matrices created in Tasks 1 & 2"
   ]
  },
  {
   "cell_type": "code",
   "execution_count": 16,
   "metadata": {},
   "outputs": [],
   "source": [
    "## BEGIN CODE\n",
    "a=np.resize(arr,(20,50))\n",
    "b=np.transpose(a)\n",
    "arr_dot=np.dot(a,b)\n",
    "## END CODE"
   ]
  },
  {
   "cell_type": "markdown",
   "metadata": {},
   "source": [
    "## Task 4: Find the row-wise sum of the resulting matrix"
   ]
  },
  {
   "cell_type": "code",
   "execution_count": 27,
   "metadata": {},
   "outputs": [
    {
     "name": "stdout",
     "output_type": "stream",
     "text": [
      "[2365442.27809957 3002112.3995789  2779184.43777157 2477210.32440039\n",
      " 2627759.87742664 2220803.79590608 2429710.18283941 2508044.22721641\n",
      " 2459318.36600334 2325031.07739166 2896081.10050922 2762062.07921721\n",
      " 2660473.74582437 2141287.18395127 2694809.41626161 2254508.32241154\n",
      " 2480788.07237605 2727792.51946167 2586794.20382212 2681242.33967484]\n"
     ]
    }
   ],
   "source": [
    "## BEGIN CODE\n",
    "c=arr_dot.sum(axis=1,dtype=float)\n",
    "#print(c)\n",
    "## END CODE"
   ]
  },
  {
   "cell_type": "markdown",
   "metadata": {},
   "source": [
    "## Task 5: Find the square root of all elements in the resulting matrix"
   ]
  },
  {
   "cell_type": "code",
   "execution_count": 28,
   "metadata": {},
   "outputs": [
    {
     "name": "stdout",
     "output_type": "stream",
     "text": [
      "[1537.99944021 1732.66049749 1667.08861125 1573.91560269 1621.03666751\n",
      " 1490.23615441 1558.75276514 1583.68059507 1568.2214021  1524.80525884\n",
      " 1701.7876191  1661.94526962 1631.09587266 1463.31376811 1641.58746836\n",
      " 1501.50202211 1575.05176816 1651.60301509 1608.35139314 1637.44995028]\n"
     ]
    }
   ],
   "source": [
    "## BEGIN CODE\n",
    "d=np.sqrt(c)\n",
    "#print(d)\n",
    "## END CODE"
   ]
  },
  {
   "cell_type": "markdown",
   "metadata": {},
   "source": [
    "## Task 6: Find the sine value of all elements in the resulting matrix"
   ]
  },
  {
   "cell_type": "code",
   "execution_count": 30,
   "metadata": {},
   "outputs": [
    {
     "name": "stdout",
     "output_type": "stream",
     "text": [
      "[-0.98203514 -0.99739839  0.88988262  0.0223149  -0.02513909  0.90063852\n",
      "  0.49931585  0.31257026 -0.53682381 -0.90561256 -0.81665967 -0.04274285\n",
      " -0.57228164 -0.61973772  0.99446036 -0.17830768 -0.89740342 -0.76736444\n",
      " -0.14354788 -0.62893124]\n"
     ]
    }
   ],
   "source": [
    "## BEGIN CODE\n",
    "e=np.sin(d)\n",
    "#print(e)\n",
    "## END CODE"
   ]
  },
  {
   "cell_type": "markdown",
   "metadata": {},
   "source": [
    "## Create submission file"
   ]
  },
  {
   "cell_type": "code",
   "execution_count": 31,
   "metadata": {},
   "outputs": [],
   "source": [
    "## Assign the name of the variable containing the final matrix to VARIABLE_NAME variable.\n",
    "\n",
    "VARIABLE_NAME = e\n",
    "with open('submission.pickle', 'wb') as p:\n",
    "    pickle.dump(VARIABLE_NAME, p)"
   ]
  },
  {
   "cell_type": "code",
   "execution_count": null,
   "metadata": {},
   "outputs": [],
   "source": []
  }
 ],
 "metadata": {
  "kernelspec": {
   "display_name": "Python 3",
   "language": "python",
   "name": "python3"
  },
  "language_info": {
   "codemirror_mode": {
    "name": "ipython",
    "version": 3
   },
   "file_extension": ".py",
   "mimetype": "text/x-python",
   "name": "python",
   "nbconvert_exporter": "python",
   "pygments_lexer": "ipython3",
   "version": "3.6.4"
  }
 },
 "nbformat": 4,
 "nbformat_minor": 2
}
